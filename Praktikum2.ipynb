{
 "cells": [
  {
   "cell_type": "code",
   "execution_count": 8,
   "id": "88253355-0b36-4b69-809c-4ee0c204d7e7",
   "metadata": {},
   "outputs": [
    {
     "name": "stdout",
     "output_type": "stream",
     "text": [
      "Requirement already satisfied: opencv-python in c:\\users\\asus\\anaconda3\\lib\\site-packages (4.11.0.86)\n",
      "Requirement already satisfied: numpy>=1.21.2 in c:\\users\\asus\\anaconda3\\lib\\site-packages (from opencv-python) (1.26.4)\n",
      "Note: you may need to restart the kernel to use updated packages.\n"
     ]
    }
   ],
   "source": [
    "pip install opencv-python"
   ]
  },
  {
   "cell_type": "markdown",
   "id": "3b785177-420c-45d1-b6df-047ec0d1353f",
   "metadata": {},
   "source": [
    "## 202331034_NabilaRidhaAdman"
   ]
  },
  {
   "cell_type": "code",
   "execution_count": 10,
   "id": "d2ce60bc-bebc-4ecc-8692-3ed29e8073d3",
   "metadata": {},
   "outputs": [],
   "source": [
    "import cv2"
   ]
  },
  {
   "cell_type": "code",
   "execution_count": 11,
   "id": "0020a94a-62cf-4f13-ba18-aa716f3ef82d",
   "metadata": {},
   "outputs": [],
   "source": [
    "import matplotlib.pyplot as plt"
   ]
  },
  {
   "cell_type": "code",
   "execution_count": 15,
   "id": "398ec6cb-e5ce-4845-b23a-f42279870574",
   "metadata": {},
   "outputs": [],
   "source": [
    "import numpy as np"
   ]
  },
  {
   "cell_type": "markdown",
   "id": "03cee27d-1139-4fd0-bffd-0b11b8468e65",
   "metadata": {},
   "source": [
    "## 202331034_NabilaRidhaAdman"
   ]
  },
  {
   "cell_type": "code",
   "execution_count": 18,
   "id": "32a9f3cf-15d9-43dc-8d20-f9cc4f5a3975",
   "metadata": {},
   "outputs": [],
   "source": [
    "citra = cv2.imread('lemon.png')"
   ]
  },
  {
   "cell_type": "code",
   "execution_count": 20,
   "id": "587e09b0-2889-4257-a875-49abadbf21c4",
   "metadata": {},
   "outputs": [],
   "source": [
    "cv2.imshow(\"citra asli\", citra)\n",
    "cv2.waitKey(0)\n",
    "cv2.destroyAllWindows()"
   ]
  },
  {
   "cell_type": "markdown",
   "id": "539dfd5b-503c-43d0-b845-33e9efde203c",
   "metadata": {},
   "source": [
    "## 202331034_NabilaRidhaAdman"
   ]
  },
  {
   "cell_type": "code",
   "execution_count": 23,
   "id": "9f16d764-9d29-4272-80a7-dbea7742d97e",
   "metadata": {},
   "outputs": [
    {
     "name": "stdout",
     "output_type": "stream",
     "text": [
      "(1024, 1024, 3)\n",
      "uint8\n"
     ]
    }
   ],
   "source": [
    "print(citra.shape)\n",
    "print(citra.dtype)"
   ]
  },
  {
   "cell_type": "markdown",
   "id": "663d967e-6cf6-4c6d-a2a7-c46d6acd3e94",
   "metadata": {},
   "source": [
    "## 202331034_NabilaRidhaAdman"
   ]
  },
  {
   "cell_type": "code",
   "execution_count": 26,
   "id": "1e4a2342-ef2f-4942-a679-e931ffc4b9b8",
   "metadata": {},
   "outputs": [],
   "source": [
    "b = citra[:,:,0]\n",
    "g = citra[:,:,1]\n",
    "r = citra[:,:,2]"
   ]
  },
  {
   "cell_type": "markdown",
   "id": "c0650c4b-dd6f-4109-95a4-5433e34b7c6a",
   "metadata": {},
   "source": [
    "## 202331034_NabilaRidhaAdman"
   ]
  },
  {
   "cell_type": "code",
   "execution_count": 29,
   "id": "a64ed96a-70b0-4086-a204-c832907c04a4",
   "metadata": {},
   "outputs": [],
   "source": [
    "panjang = len(citra) #menghitung baris\n",
    "lebar =  len(citra[0]) #menghitung kolom\n",
    "\n",
    "citra_gray = np.zeros((panjang,lebar))\n",
    "\n",
    "for i in range (panjang):\n",
    "    for j in range (lebar):\n",
    "        citra_gray[i,j] = 0.2989 * r[i,j] + 0.587 * g[i,j] + 0.1141 * b[i,j] #merah=29,89% ; hijau=58,7% ; biru=11,41% \n",
    "\n",
    "citra_gray = citra_gray.astype(np.uint8)\n",
    "\n",
    "cv2.imshow(\"citra grayscale\", citra_gray)\n",
    "cv2.waitKey(0)\n",
    "cv2.destroyAllWindows()"
   ]
  },
  {
   "cell_type": "code",
   "execution_count": 30,
   "id": "58445c9a-c039-4b41-a35d-b7f139861997",
   "metadata": {
    "scrolled": true
   },
   "outputs": [
    {
     "name": "stdout",
     "output_type": "stream",
     "text": [
      "[[[26 24 22]\n",
      "  [26 24 22]\n",
      "  [26 24 22]\n",
      "  ...\n",
      "  [69 55 51]\n",
      "  [70 58 53]\n",
      "  [63 48 43]]\n",
      "\n",
      " [[26 24 22]\n",
      "  [26 24 22]\n",
      "  [26 24 22]\n",
      "  ...\n",
      "  [77 67 62]\n",
      "  [79 63 58]\n",
      "  [63 48 43]]\n",
      "\n",
      " [[26 24 22]\n",
      "  [26 24 22]\n",
      "  [26 24 22]\n",
      "  ...\n",
      "  [58 45 40]\n",
      "  [64 52 47]\n",
      "  [69 55 51]]\n",
      "\n",
      " ...\n",
      "\n",
      " [[17 16 15]\n",
      "  [17 16 15]\n",
      "  [17 16 15]\n",
      "  ...\n",
      "  [69 55 51]\n",
      "  [50 41 38]\n",
      "  [63 48 43]]\n",
      "\n",
      " [[17 16 15]\n",
      "  [17 16 15]\n",
      "  [17 16 15]\n",
      "  ...\n",
      "  [69 55 51]\n",
      "  [58 45 40]\n",
      "  [69 55 51]]\n",
      "\n",
      " [[17 16 15]\n",
      "  [17 16 15]\n",
      "  [17 16 15]\n",
      "  ...\n",
      "  [43 33 29]\n",
      "  [63 48 43]\n",
      "  [58 45 40]]]\n"
     ]
    }
   ],
   "source": [
    "print(citra)"
   ]
  },
  {
   "cell_type": "code",
   "execution_count": 31,
   "id": "9606ff1d-338f-4b9a-8b90-ea1cdc048054",
   "metadata": {},
   "outputs": [
    {
     "name": "stdout",
     "output_type": "stream",
     "text": [
      "[[23 23 23 ... 55 57 48]\n",
      " [23 23 23 ... 66 63 48]\n",
      " [23 23 23 ... 44 51 55]\n",
      " ...\n",
      " [15 15 15 ... 55 41 48]\n",
      " [15 15 15 ... 55 44 55]\n",
      " [15 15 15 ... 32 48 44]]\n"
     ]
    }
   ],
   "source": [
    "print(citra_gray)"
   ]
  },
  {
   "cell_type": "markdown",
   "id": "efe36001-c470-43d3-abb2-bd7125d94e66",
   "metadata": {},
   "source": [
    "## 202331034_NabilaRidhaAdman"
   ]
  },
  {
   "cell_type": "code",
   "execution_count": 33,
   "id": "9f88bf0c-04ab-45f8-919e-1aa614ec7432",
   "metadata": {},
   "outputs": [],
   "source": [
    "panjang = len(citra) #menghitung baris\n",
    "lebar =  len(citra[0]) #menghitung kolom\n",
    "\n",
    "ambang = 90\n",
    "\n",
    "citra_biner = np.zeros((panjang,lebar))\n",
    "\n",
    "for i in range (panjang):\n",
    "    for j in range (lebar):\n",
    "        if citra_gray[i,j] >= ambang:\n",
    "            citra_biner[i,j] = 1 #putih\n",
    "        else:\n",
    "            citra_biner[i,j] = 0 #hitam\n",
    "\n",
    "cv2.imshow(\"citra binary\", citra_biner)\n",
    "cv2.waitKey(0)\n",
    "cv2.destroyAllWindows()"
   ]
  },
  {
   "cell_type": "code",
   "execution_count": 34,
   "id": "d704f599-63cc-4a78-ad45-532da0fd6c87",
   "metadata": {},
   "outputs": [
    {
     "name": "stdout",
     "output_type": "stream",
     "text": [
      "[[0. 0. 0. ... 0. 0. 0.]\n",
      " [0. 0. 0. ... 0. 0. 0.]\n",
      " [0. 0. 0. ... 0. 0. 0.]\n",
      " ...\n",
      " [0. 0. 0. ... 0. 0. 0.]\n",
      " [0. 0. 0. ... 0. 0. 0.]\n",
      " [0. 0. 0. ... 0. 0. 0.]]\n"
     ]
    }
   ],
   "source": [
    "print(citra_biner)"
   ]
  }
 ],
 "metadata": {
  "kernelspec": {
   "display_name": "Python [conda env:base] *",
   "language": "python",
   "name": "conda-base-py"
  },
  "language_info": {
   "codemirror_mode": {
    "name": "ipython",
    "version": 3
   },
   "file_extension": ".py",
   "mimetype": "text/x-python",
   "name": "python",
   "nbconvert_exporter": "python",
   "pygments_lexer": "ipython3",
   "version": "3.12.7"
  }
 },
 "nbformat": 4,
 "nbformat_minor": 5
}
